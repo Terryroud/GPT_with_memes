{
 "cells": [
  {
   "cell_type": "code",
   "execution_count": 1,
   "id": "45c30ecf-109b-45c6-9222-76d3d054faba",
   "metadata": {},
   "outputs": [
    {
     "name": "stdout",
     "output_type": "stream",
     "text": [
      "[2023-12-09 17:45:51,798] [INFO] [real_accelerator.py:110:get_accelerator] Setting ds_accelerator to cuda (auto detect)\n"
     ]
    },
    {
     "name": "stderr",
     "output_type": "stream",
     "text": [
      "2023-12-09 17:45:52.197089: E tensorflow/compiler/xla/stream_executor/cuda/cuda_dnn.cc:9342] Unable to register cuDNN factory: Attempting to register factory for plugin cuDNN when one has already been registered\n",
      "2023-12-09 17:45:52.197125: E tensorflow/compiler/xla/stream_executor/cuda/cuda_fft.cc:609] Unable to register cuFFT factory: Attempting to register factory for plugin cuFFT when one has already been registered\n",
      "2023-12-09 17:45:52.197158: E tensorflow/compiler/xla/stream_executor/cuda/cuda_blas.cc:1518] Unable to register cuBLAS factory: Attempting to register factory for plugin cuBLAS when one has already been registered\n",
      "2023-12-09 17:45:52.205684: I tensorflow/core/platform/cpu_feature_guard.cc:182] This TensorFlow binary is optimized to use available CPU instructions in performance-critical operations.\n",
      "To enable the following instructions: AVX2 AVX512F FMA, in other operations, rebuild TensorFlow with the appropriate compiler flags.\n",
      "2023-12-09 17:45:53.207978: W tensorflow/compiler/tf2tensorrt/utils/py_utils.cc:38] TF-TRT Warning: Could not find TensorRT\n"
     ]
    }
   ],
   "source": [
    "from PIL import Image\n",
    "import requests\n",
    "\n",
    "from transformers import CLIPProcessor, CLIPModel\n",
    "\n",
    "clip_model = CLIPModel.from_pretrained(\"openai/clip-vit-base-patch32\")\n",
    "clip_processor = CLIPProcessor.from_pretrained(\"openai/clip-vit-base-patch32\")"
   ]
  },
  {
   "cell_type": "code",
   "execution_count": 3,
   "id": "e160e5f8-9f1b-46f9-90cf-c8166b573e2f",
   "metadata": {},
   "outputs": [],
   "source": []
  },
  {
   "cell_type": "code",
   "execution_count": 4,
   "id": "8508667b-08be-4b98-b9e1-3ce2037815ba",
   "metadata": {},
   "outputs": [],
   "source": []
  },
  {
   "cell_type": "code",
   "execution_count": 15,
   "id": "1c601355-0930-4eb4-aa3c-25ffb574d86b",
   "metadata": {},
   "outputs": [],
   "source": [
    "# df = df.sample(5000)"
   ]
  },
  {
   "cell_type": "code",
   "execution_count": 16,
   "id": "3b13bb46-8d57-44da-bec0-bbe2ebc2797c",
   "metadata": {},
   "outputs": [],
   "source": [
    "clip_model.to('cuda:7');"
   ]
  },
  {
   "cell_type": "code",
   "execution_count": 35,
   "id": "fd22a79c-b5ec-4746-811a-596dd53d5d42",
   "metadata": {},
   "outputs": [],
   "source": [
    "import pandas as pd\n",
    "\n",
    "df_1 = pd.read_csv('full_meme_data.csv', names=['image', 'description', 'full_description', 'prois', 'meaning'], sep=',')[1:]"
   ]
  },
  {
   "cell_type": "code",
   "execution_count": 18,
   "id": "1f020a89-18d4-4373-b202-b679f99685e0",
   "metadata": {},
   "outputs": [],
   "source": [
    "# df_1['meaning'].iloc[0]"
   ]
  },
  {
   "cell_type": "code",
   "execution_count": 36,
   "id": "9ded7dd8-b038-44aa-9fa3-93ac110c790e",
   "metadata": {},
   "outputs": [],
   "source": [
    "df_2 = pd.read_csv('vk_memess.csv')"
   ]
  },
  {
   "cell_type": "code",
   "execution_count": 38,
   "id": "73e76de8-b79e-49bb-abbb-e28828f1b8ad",
   "metadata": {},
   "outputs": [],
   "source": [
    "images = df_1['image'].tolist() + df_2['мем'].tolist()\n",
    "\n",
    "# images = df['allimg']"
   ]
  },
  {
   "cell_type": "code",
   "execution_count": 68,
   "id": "bb676c82-b9b8-430c-9feb-2ba68c106c18",
   "metadata": {},
   "outputs": [],
   "source": [
    "# len(captions)"
   ]
  },
  {
   "cell_type": "code",
   "execution_count": 69,
   "id": "3caddc25-7c14-4c26-a010-4e34b5fcf589",
   "metadata": {},
   "outputs": [],
   "source": [
    "captions = df_1['description'].tolist() + df_2['Описание'].tolist()\n",
    "# captions = df['desc']"
   ]
  },
  {
   "cell_type": "markdown",
   "id": "ca6032fd-b4a5-4943-b186-357ee2d0d93e",
   "metadata": {},
   "source": [
    "# Get images"
   ]
  },
  {
   "cell_type": "code",
   "execution_count": 70,
   "id": "2b72b7e8-928e-40f1-9543-cdde354a83f9",
   "metadata": {},
   "outputs": [],
   "source": [
    "from concurrent.futures import ThreadPoolExecutor, as_completed\n",
    "import requests\n",
    "import urllib3\n",
    "\n",
    "def download_image(url: str) -> urllib3.response.HTTPResponse:\n",
    "    raw_image = url\n",
    "    if url.startswith('http'):\n",
    "        raw_image = requests.get(url, stream=True).raw\n",
    "    return raw_image\n",
    "\n",
    "def download_image_batch(image_urls):\n",
    "    with ThreadPoolExecutor() as executor:\n",
    "        futures = []\n",
    "        for url in image_urls:\n",
    "            futures.append(executor.submit(download_image, url))\n",
    "    \n",
    "        raw_images = []\n",
    "        for future in as_completed(futures):\n",
    "            raw_image = future.result()\n",
    "            if raw_image is not None:\n",
    "                raw_images.append(raw_image)\n",
    "    return raw_images"
   ]
  },
  {
   "cell_type": "code",
   "execution_count": 71,
   "id": "8aaddfa3-cf94-4e71-9a09-13c43151ccf9",
   "metadata": {},
   "outputs": [],
   "source": [
    "import torch\n",
    "\n",
    "def return_image_embeddings(images):\n",
    "    with torch.no_grad():\n",
    "        inputs = clip_processor(images=images, return_tensors=\"pt\", padding=True).to(clip_model.device)\n",
    "        embeds = clip_model.get_image_features(**inputs)\n",
    "    return embeds"
   ]
  },
  {
   "cell_type": "code",
   "execution_count": 73,
   "id": "9ec6a799-bbe4-4ba4-ae18-3f93168fa159",
   "metadata": {},
   "outputs": [
    {
     "name": "stderr",
     "output_type": "stream",
     "text": [
      " 52% 12/23 [01:17<01:11,  6.47s/it]/usr/local/lib/python3.10/site-packages/PIL/Image.py:970: UserWarning: Palette images with Transparency expressed in bytes should be converted to RGBA images\n",
      "  warnings.warn(\n",
      "100% 23/23 [02:38<00:00,  6.88s/it]\n"
     ]
    }
   ],
   "source": [
    "import numpy as np\n",
    "from tqdm import tqdm\n",
    "\n",
    "total_embeds = []\n",
    "\n",
    "for batch in tqdm(np.array_split(images, len(images) // 128)):\n",
    "    raw_images = download_image_batch(batch)\n",
    "    opened_images = [Image.open(raw_image) for raw_image in raw_images]\n",
    "    embeds = return_image_embeddings(opened_images)\n",
    "    total_embeds.append(embeds)"
   ]
  },
  {
   "cell_type": "code",
   "execution_count": null,
   "id": "ac69af68-a37e-4eda-91d2-3a31ff617dd9",
   "metadata": {},
   "outputs": [],
   "source": []
  },
  {
   "cell_type": "code",
   "execution_count": 74,
   "id": "b4827e15-bd85-4a2a-850c-f217f78130a7",
   "metadata": {},
   "outputs": [],
   "source": [
    "total_embeds = torch.cat(total_embeds)"
   ]
  },
  {
   "cell_type": "code",
   "execution_count": 75,
   "id": "991ac7b1-9dea-4bec-9c7f-4ada34512699",
   "metadata": {},
   "outputs": [
    {
     "data": {
      "text/plain": [
       "torch.Size([3008, 512])"
      ]
     },
     "execution_count": 75,
     "metadata": {},
     "output_type": "execute_result"
    }
   ],
   "source": [
    "total_embeds.shape"
   ]
  },
  {
   "cell_type": "code",
   "execution_count": 76,
   "id": "28bbc0fa-aada-492f-80a5-9fcb0f095b81",
   "metadata": {},
   "outputs": [],
   "source": [
    "torch.save(total_embeds, 'weights/images.pt')"
   ]
  },
  {
   "cell_type": "code",
   "execution_count": 77,
   "id": "c646cc17-4b4b-4048-bfd7-67d073428826",
   "metadata": {},
   "outputs": [],
   "source": [
    "total_embeds = torch.load('weights/images.pt')"
   ]
  },
  {
   "cell_type": "markdown",
   "id": "ff2dc925-e931-4e22-b6bd-f76dc80a56cd",
   "metadata": {},
   "source": [
    "# Texts"
   ]
  },
  {
   "cell_type": "code",
   "execution_count": 78,
   "id": "fb1022ce-d190-4a55-a870-50d0a227774a",
   "metadata": {},
   "outputs": [],
   "source": [
    "from torch import Tensor, nn\n",
    "from torch.nn import functional as F\n",
    "\n",
    "def tensor_masking(tensor: Tensor, mask: Tensor, value: float = 0.0) -> Tensor:\n",
    "    return tensor.masked_fill((~(mask.bool())).unsqueeze(-1), value)\n",
    "\n",
    "class GlobalMaskedPooling(nn.Module):\n",
    "    POOLING_TYPES = (\"mean\", \"max\")\n",
    "\n",
    "    def __init__(\n",
    "        self,\n",
    "        pooling_type: str = \"mean\",\n",
    "        dim: int = 1,\n",
    "        normalize: bool = False,\n",
    "        length_scaling: bool = False,\n",
    "        scaling_square_root: bool = False,\n",
    "        embedding_masking: bool = True,\n",
    "    ):\n",
    "        super().__init__()\n",
    "\n",
    "        if dim < 0:\n",
    "            raise ValueError(\"Dimension (dim parameter) must be greater than zero\")\n",
    "\n",
    "        self.pooling_type = pooling_type\n",
    "        self.dim = dim\n",
    "\n",
    "        self.normalize = normalize\n",
    "        self.length_scaling = length_scaling\n",
    "        self.scaling_square_root = scaling_square_root\n",
    "\n",
    "        self.embedding_masking = embedding_masking\n",
    "\n",
    "        if self.pooling_type == \"max\":\n",
    "            self.mask_value = -float(\"inf\")\n",
    "        else:\n",
    "            self.mask_value = 0.0\n",
    "\n",
    "    def forward(self, tensor: Tensor, pad_mask: Tensor) -> Tensor:\n",
    "        lengths = pad_mask.sum(self.dim).float()\n",
    "\n",
    "        if self.embedding_masking:\n",
    "            tensor = tensor_masking(tensor, pad_mask, value=self.mask_value)\n",
    "\n",
    "        if self.pooling_type == \"mean\":\n",
    "            scaling = tensor.size(self.dim) / lengths\n",
    "        else:\n",
    "            scaling = torch.ones(tensor.size(0), device=tensor.device)\n",
    "\n",
    "        if self.length_scaling:\n",
    "            lengths_factor = lengths\n",
    "            if self.scaling_square_root:\n",
    "                lengths_factor = lengths_factor**0.5\n",
    "            scaling /= lengths_factor\n",
    "\n",
    "        scaling = scaling.masked_fill(lengths == 0, 1.0).unsqueeze(-1)\n",
    "\n",
    "        if self.pooling_type == \"mean\":\n",
    "            tensor = tensor.mean(self.dim)\n",
    "        else:\n",
    "            tensor, _ = tensor.max(self.dim)\n",
    "\n",
    "        tensor *= scaling\n",
    "\n",
    "        if self.normalize:\n",
    "            tensor = F.normalize(tensor)\n",
    "\n",
    "        return tensor\n",
    "\n",
    "mean_pooler = GlobalMaskedPooling(pooling_type='mean')"
   ]
  },
  {
   "cell_type": "code",
   "execution_count": 79,
   "id": "0bc9110a-36ee-45df-943f-2dfc09302db0",
   "metadata": {},
   "outputs": [],
   "source": [
    "import torch\n",
    "from transformers import AutoTokenizer, AutoModel\n",
    "\n",
    "bert_tokenizer = AutoTokenizer.from_pretrained(\"cointegrated/LaBSE-en-ru\")\n",
    "bert_model = AutoModel.from_pretrained(\"cointegrated/LaBSE-en-ru\")"
   ]
  },
  {
   "cell_type": "code",
   "execution_count": 80,
   "id": "f952e603-a853-4858-a575-02690ab8a4b2",
   "metadata": {},
   "outputs": [],
   "source": [
    "bert_model.to('cuda:6');"
   ]
  },
  {
   "cell_type": "code",
   "execution_count": 81,
   "id": "6a717d29-558a-4f2c-a134-8d2547f1a74f",
   "metadata": {},
   "outputs": [],
   "source": [
    "def embed_bert_cls(text, model, tokenizer):\n",
    "    t = tokenizer(text, padding=True, truncation=True, return_tensors='pt')\n",
    "    with torch.no_grad():\n",
    "        model_output = model(**{k: v.to(model.device) for k, v in t.items()})\n",
    "    embeddings = mean_pooler(model_output.last_hidden_state, t.attention_mask.to(model.device))\n",
    "    return embeddings"
   ]
  },
  {
   "cell_type": "code",
   "execution_count": 82,
   "id": "87c9177c-0761-45da-b777-025808d9371d",
   "metadata": {},
   "outputs": [],
   "source": [
    "# texts = df['full_description'].tolist() + df_2['Описание'].tolist()"
   ]
  },
  {
   "cell_type": "code",
   "execution_count": 52,
   "id": "9ec72fce-2c95-41d5-b21e-83981e39afb7",
   "metadata": {},
   "outputs": [
    {
     "name": "stderr",
     "output_type": "stream",
     "text": [
      "100% 47/47 [00:06<00:00,  7.39it/s]\n"
     ]
    }
   ],
   "source": [
    "text_embeds = []\n",
    "\n",
    "for batch in tqdm(np.array_split(captions, len(captions) // 64)):\n",
    "    model_outputs = embed_bert_cls(list(batch), bert_model, bert_tokenizer)\n",
    "    text_embeds.append(model_outputs)"
   ]
  },
  {
   "cell_type": "code",
   "execution_count": 53,
   "id": "05b1bad2-7849-4af3-affd-7fc812c6a499",
   "metadata": {},
   "outputs": [],
   "source": [
    "text_embeds = torch.cat(text_embeds)"
   ]
  },
  {
   "cell_type": "code",
   "execution_count": 54,
   "id": "08f251d9-e71c-44e8-8f05-2695b2bded6a",
   "metadata": {},
   "outputs": [],
   "source": [
    "torch.save(text_embeds, 'weights/texts.pt')"
   ]
  },
  {
   "cell_type": "markdown",
   "id": "2649e0ce-4386-49ff-863e-701755e68607",
   "metadata": {},
   "source": [
    "# Dataset"
   ]
  },
  {
   "cell_type": "code",
   "execution_count": 83,
   "id": "ccb6793f-3d3c-49e0-bd77-acfab7be05c6",
   "metadata": {},
   "outputs": [],
   "source": [
    "from torch.utils.data import Dataset, DataLoader\n",
    "\n",
    "class MultiModalDataset(Dataset):\n",
    "    def __init__(self, captions, images):\n",
    "        self.captions = captions\n",
    "        self.images = images\n",
    "        \n",
    "    def __len__(self):\n",
    "        return len(self.captions)\n",
    "    \n",
    "    def __getitem__(self, index):\n",
    "        captions_embedding = self.captions[index]\n",
    "        image_embedding = self.images[index]\n",
    "        return captions_embedding, image_embedding"
   ]
  },
  {
   "cell_type": "code",
   "execution_count": 84,
   "id": "66df3d83-08da-4892-8184-287a03b7a206",
   "metadata": {},
   "outputs": [],
   "source": [
    "threshold = int(len(text_embeds) * 0.05)\n",
    "\n",
    "train_dataset = MultiModalDataset(text_embeds[:-threshold], total_embeds[:-threshold])\n",
    "val_dataset = MultiModalDataset(text_embeds[-threshold:], total_embeds[-threshold:])"
   ]
  },
  {
   "cell_type": "code",
   "execution_count": 85,
   "id": "010b4095-67da-4264-ab0b-c3ee0419a809",
   "metadata": {},
   "outputs": [
    {
     "data": {
      "text/plain": [
       "(2858, 150)"
      ]
     },
     "execution_count": 85,
     "metadata": {},
     "output_type": "execute_result"
    }
   ],
   "source": [
    "len(train_dataset), len(val_dataset)"
   ]
  },
  {
   "cell_type": "code",
   "execution_count": 86,
   "id": "46c9c3b2-b244-410a-9daa-0bd990e3217e",
   "metadata": {},
   "outputs": [],
   "source": [
    "BATCH_SIZE = 128\n",
    "\n",
    "train_dataloader = DataLoader(train_dataset, shuffle=True, batch_size=BATCH_SIZE)\n",
    "val_dataloader = DataLoader(val_dataset, shuffle=True, batch_size=BATCH_SIZE)"
   ]
  },
  {
   "cell_type": "markdown",
   "id": "b86f3ce4-ab7b-43cf-b19c-cf4ed686c0b0",
   "metadata": {},
   "source": [
    "# Model"
   ]
  },
  {
   "cell_type": "code",
   "execution_count": 87,
   "id": "32ac3e51-d46b-4867-8924-4e50dd327b3e",
   "metadata": {},
   "outputs": [],
   "source": [
    "import torch\n",
    "\n",
    "class MemesCrossEncoder(torch.nn.Module):\n",
    "    def __init__(self):\n",
    "        super().__init__()\n",
    "        self.image_dim = 512\n",
    "        self.text_dim = 768\n",
    "\n",
    "        self.image_proj = torch.nn.Linear(self.image_dim, 512)\n",
    "        self.text_proj = torch.nn.Linear(self.text_dim, 512)\n",
    "        self.dropout = torch.nn.Dropout(0.25)\n",
    "\n",
    "    def forward(self, text_embedding, image_embedding):\n",
    "        text_embeddings = self.dropout(text_embedding)\n",
    "        image_embeddings = self.dropout(image_embedding)\n",
    "        image_emb = self.image_proj(image_embedding)\n",
    "        text_emb = self.text_proj(text_embedding)\n",
    "\n",
    "        return image_emb @ text_emb.T"
   ]
  },
  {
   "cell_type": "code",
   "execution_count": 88,
   "id": "2d48040e-ab06-4fe0-ae4b-c7e8f7eef65d",
   "metadata": {},
   "outputs": [],
   "source": [
    "import numpy as np\n",
    "\n",
    "classifier = MemesCrossEncoder().to('cuda:6')\n",
    "\n",
    "lr = 1e-5\n",
    "\n",
    "criterion = torch.nn.CrossEntropyLoss()\n",
    "optimizer = torch.optim.Adam(classifier.parameters(), lr=lr)"
   ]
  },
  {
   "cell_type": "code",
   "execution_count": 89,
   "id": "b0b9504c-2052-4f53-bc1a-99a90cd6bf80",
   "metadata": {},
   "outputs": [],
   "source": [
    "def loop(classifier, is_training, loader):\n",
    "    desc = \"Training\" if is_training else \"Evaluating\"\n",
    "\n",
    "    epoch_predictions = list()\n",
    "    epoch_targets = list()\n",
    "\n",
    "    epoch_losses = []\n",
    "\n",
    "    if not is_training:\n",
    "        classifier.eval()\n",
    "    else:\n",
    "        classifier.train()\n",
    "\n",
    "    for dialogs, images in loader:\n",
    "        with torch.set_grad_enabled(mode=is_training):\n",
    "            logits = classifier(dialogs.to(model_device), images.to(model_device)).cpu()\n",
    "\n",
    "        targets = torch.arange(0, logits.size(0))\n",
    "\n",
    "        loss = 0.5 * criterion(logits, targets) + 0.5 * criterion(logits.t(), targets)\n",
    "\n",
    "        epoch_losses.append(loss.item())\n",
    "\n",
    "        epoch_targets.extend(targets.cpu().tolist())\n",
    "\n",
    "        if is_training:\n",
    "            optimizer.zero_grad()\n",
    "            loss.backward()\n",
    "            torch.nn.utils.clip_grad_norm_(classifier.parameters(), 2)\n",
    "            optimizer.step()\n",
    "\n",
    "    epoch_loss = np.mean(epoch_losses)\n",
    "    return epoch_loss"
   ]
  },
  {
   "cell_type": "code",
   "execution_count": 90,
   "id": "cc256e13-3d37-4d16-a44b-9da4dc58bc19",
   "metadata": {},
   "outputs": [
    {
     "name": "stderr",
     "output_type": "stream",
     "text": [
      "100% 25/25 [00:01<00:00, 14.66it/s]\n"
     ]
    }
   ],
   "source": [
    "model_device = 'cuda:6'\n",
    "\n",
    "EPOCHS = 25\n",
    "\n",
    "train_losses = list()\n",
    "train_roc_auc_metrics = list()\n",
    "\n",
    "valid_losses = list()\n",
    "valid_roc_auc_metrics = list()\n",
    "\n",
    "for n_epoch in tqdm(range(EPOCHS)):\n",
    "    test_loss = loop(classifier=classifier, is_training=False, loader=val_dataloader)\n",
    "    train_loss = loop(classifier=classifier, is_training=True, loader=train_dataloader)\n",
    "\n",
    "    train_losses.append(train_loss)\n",
    "    valid_losses.append(test_loss)"
   ]
  },
  {
   "cell_type": "code",
   "execution_count": 91,
   "id": "32fd0601-5e6e-4915-b5f6-399a14646f9a",
   "metadata": {},
   "outputs": [
    {
     "data": {
      "text/plain": [
       "<matplotlib.legend.Legend at 0x7fa103f18f10>"
      ]
     },
     "execution_count": 91,
     "metadata": {},
     "output_type": "execute_result"
    },
    {
     "data": {
      "image/png": "[encoded data removed]",
      "text/plain": [
       "<Figure size 640x480 with 1 Axes>"
      ]
     },
     "metadata": {},
     "output_type": "display_data"
    }
   ],
   "source": [
    "from matplotlib import pyplot as plt\n",
    "\n",
    "plt.xlabel(\"Epochs\")\n",
    "plt.ylabel(\"Loss value\")\n",
    "plt.grid()\n",
    "plt.title(\"Loss Train-Valid\")\n",
    "plt.plot(train_losses, label=\"Train\")\n",
    "plt.plot(valid_losses, label=\"Valid\")\n",
    "plt.legend()"
   ]
  },
  {
   "cell_type": "code",
   "execution_count": 92,
   "id": "58a87844-28c7-4fe2-904c-b86ba4b8e7a8",
   "metadata": {},
   "outputs": [],
   "source": [
    "classifier = classifier.eval()"
   ]
  },
  {
   "cell_type": "markdown",
   "id": "e7c6f003-0509-46b7-8692-d05e9fde5233",
   "metadata": {},
   "source": [
    "# New inference"
   ]
  },
  {
   "cell_type": "code",
   "execution_count": 93,
   "id": "279723c8-c2e5-413e-b896-53d5b15baf6b",
   "metadata": {},
   "outputs": [
    {
     "name": "stderr",
     "output_type": "stream",
     "text": [
      "/tmp/ipykernel_98087/1121507693.py:4: UserWarning: To copy construct from a tensor, it is recommended to use sourceTensor.clone().detach() or sourceTensor.clone().detach().requires_grad_(True), rather than torch.tensor(sourceTensor).\n",
      "  index_image_embeds = torch.nn.functional.normalize(torch.tensor(index_image_embeds))\n"
     ]
    }
   ],
   "source": [
    "with torch.no_grad():\n",
    "    index_image_embeds = classifier.image_proj(total_embeds.to(model_device))\n",
    "\n",
    "index_image_embeds = torch.nn.functional.normalize(torch.tensor(index_image_embeds))"
   ]
  },
  {
   "cell_type": "code",
   "execution_count": 94,
   "id": "91510512-f486-448c-a64b-3710d0535fe5",
   "metadata": {},
   "outputs": [],
   "source": [
    "text_embedding = embed_bert_cls(\"Макеба\", bert_model, bert_tokenizer)\n",
    "\n",
    "with torch.no_grad():\n",
    "    projected_text_embedding = torch.nn.functional.normalize(classifier.text_proj(text_embedding))"
   ]
  },
  {
   "cell_type": "code",
   "execution_count": 95,
   "id": "c9a5e50b-a4cc-4694-ab8e-61eb0b937c1c",
   "metadata": {},
   "outputs": [
    {
     "data": {
      "text/plain": [
       "tensor([1993], device='cuda:6')"
      ]
     },
     "execution_count": 95,
     "metadata": {},
     "output_type": "execute_result"
    }
   ],
   "source": [
    "(projected_text_embedding @ index_image_embeds.T).argmax(1)"
   ]
  },
  {
   "cell_type": "code",
   "execution_count": 96,
   "id": "d4a91c58-82ba-4469-b158-78b7ca3b68e6",
   "metadata": {},
   "outputs": [
    {
     "data": {
      "text/plain": [
       "'Призрак в доспехах'"
      ]
     },
     "execution_count": 96,
     "metadata": {},
     "output_type": "execute_result"
    }
   ],
   "source": [
    "captions[1993]"
   ]
  },
  {
   "cell_type": "markdown",
   "id": "d72ea214-6e54-484d-957e-99542624c3cf",
   "metadata": {},
   "source": [
    "# Inference"
   ]
  },
  {
   "cell_type": "code",
   "execution_count": 1020,
   "id": "25e86dbf-0148-43b1-9ff2-d651d81680b4",
   "metadata": {},
   "outputs": [
    {
     "name": "stderr",
     "output_type": "stream",
     "text": [
      "/tmp/ipykernel_68493/1121507693.py:4: UserWarning: To copy construct from a tensor, it is recommended to use sourceTensor.clone().detach() or sourceTensor.clone().detach().requires_grad_(True), rather than torch.tensor(sourceTensor).\n",
      "  index_image_embeds = torch.nn.functional.normalize(torch.tensor(index_image_embeds))\n"
     ]
    }
   ],
   "source": [
    "with torch.no_grad():\n",
    "    index_image_embeds = classifier.image_proj(total_embeds.to(model_device))\n",
    "\n",
    "index_image_embeds = torch.nn.functional.normalize(torch.tensor(index_image_embeds))"
   ]
  },
  {
   "cell_type": "code",
   "execution_count": 1021,
   "id": "a6a0d53a-d76d-4796-867a-d5028b25d11a",
   "metadata": {},
   "outputs": [],
   "source": [
    "import faiss\n",
    "\n",
    "index = faiss.IndexFlatIP(512) \n",
    "\n",
    "index.add(index_image_embeds.cpu().detach().numpy())"
   ]
  },
  {
   "cell_type": "code",
   "execution_count": 1022,
   "id": "d55fb137-1217-4587-89e4-5cfd5d894465",
   "metadata": {},
   "outputs": [],
   "source": [
    "user_query = torch.nn.functional.normalize(embed_bert_cls(text=['шрек'], model=bert_model, tokenizer=bert_tokenizer))"
   ]
  },
  {
   "cell_type": "code",
   "execution_count": 1023,
   "id": "efda4377-7c2b-4720-b496-87e6078fddc7",
   "metadata": {},
   "outputs": [
    {
     "data": {
      "text/plain": [
       "(array([[0.07929324, 0.07363001, 0.07238403, 0.07155742, 0.07137875,\n",
       "         0.07058483, 0.07032125, 0.06911341, 0.06835873, 0.06742298,\n",
       "         0.06628754, 0.06599209, 0.06559627, 0.0650481 , 0.06500664,\n",
       "         0.06453533, 0.06447062, 0.06422856, 0.06325899, 0.06325702]],\n",
       "       dtype=float32),\n",
       " array([[2710, 2866,  183,  962, 1150,  563, 1106, 2343, 2110,  205, 1943,\n",
       "           26,  341,  210,  697, 1238,   48,  851, 2574, 2587]]))"
      ]
     },
     "execution_count": 1023,
     "metadata": {},
     "output_type": "execute_result"
    }
   ],
   "source": [
    "with torch.no_grad():\n",
    "    text_emb = classifier.text_proj(user_query).cpu().detach().numpy()\n",
    "\n",
    "index.search(text_emb, k=20)"
   ]
  },
  {
   "cell_type": "code",
   "execution_count": 1009,
   "id": "3c907689-30a2-42f2-9bc4-09219f547fe1",
   "metadata": {},
   "outputs": [
    {
     "data": {
      "text/plain": [
       "'And so...they were both bottoms итак они обе были пассивами разделение пар по ролям top bottom switch кто сверху снизу две девушки аниме в белье сидят на одной кровати смущаются две лесбиянки неловко готовы заняться сексом но не знают что делать как начать как продолжить неуверенность неуверенные фрейм из манги горит лицо закрывают закрывает лицо лица руками Mikawa Miso Микава Мисо'"
      ]
     },
     "execution_count": 1009,
     "metadata": {},
     "output_type": "execute_result"
    }
   ],
   "source": [
    "t = df.iloc[114]\n",
    "\n",
    "captions[2710]\n",
    "\n",
    "# print(t['image'])\n",
    "# print(t['full_description'])"
   ]
  },
  {
   "cell_type": "code",
   "execution_count": null,
   "id": "49e20820-c87a-447f-9426-c358eea47a71",
   "metadata": {},
   "outputs": [],
   "source": []
  },
  {
   "cell_type": "code",
   "execution_count": null,
   "id": "80f2f111-2034-43e8-8871-07f751db2164",
   "metadata": {},
   "outputs": [],
   "source": []
  }
 ],
 "metadata": {
  "kernelspec": {
   "display_name": "Python 3 (ipykernel)",
   "language": "python",
   "name": "python3"
  },
  "language_info": {
   "codemirror_mode": {
    "name": "ipython",
    "version": 3
   },
   "file_extension": ".py",
   "mimetype": "text/x-python",
   "name": "python",
   "nbconvert_exporter": "python",
   "pygments_lexer": "ipython3",
   "version": "3.10.11"
  }
 },
 "nbformat": 4,
 "nbformat_minor": 5
}
